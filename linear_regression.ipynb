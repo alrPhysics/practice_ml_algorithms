{
 "cells": [
  {
   "cell_type": "code",
   "execution_count": 1,
   "metadata": {
    "collapsed": true
   },
   "outputs": [],
   "source": [
    "import numpy as np\n",
    "import pandas as pd\n",
    "import matplotlib.pyplot as plt\n",
    "from sklearn.linear_model import LinearRegression\n",
    "from sklearn.model_selection import train_test_split\n",
    "from IPython.display import display\n",
    "\n",
    "\n",
    "%matplotlib inline\n",
    "\n",
    "seed = 0"
   ]
  },
  {
   "cell_type": "markdown",
   "metadata": {},
   "source": [
    "## Functions for all methods used found in cell below\n",
    "* Normal Equation - Analytical solution\n",
    "* Gradient Descent - Numerical solution where the whole dataset is used to update theta once\n",
    "* Stochastic Gradient Descent - Numerical solution where each example is used to update theta, therefore one pass through a set with n examples produces n updates to theta. The number of epochs represents the number of times the dataset is analyzed. The data is shuffled each epoch."
   ]
  },
  {
   "cell_type": "code",
   "execution_count": 2,
   "metadata": {
    "collapsed": true
   },
   "outputs": [],
   "source": [
    "def normal_equation(X, y):\n",
    "    inv = np.linalg.inv(np.dot(X.T,X))\n",
    "    numer = np.dot(X.T, y)\n",
    "    theta = np.dot(inv, numer)\n",
    "    return theta.T\n",
    "\n",
    "def calc_cost(X, y, theta):\n",
    "    cost = np.sum(np.power(np.matmul(X,theta.T)-y,2))/(2*len(X))\n",
    "    #print y\n",
    "    return cost\n",
    "\n",
    "def plot_cost(cost, iters):\n",
    "    plt.plot(np.arange(iters), cost)\n",
    "    plt.xlabel('Iterations')\n",
    "    plt.ylabel('Error')\n",
    "\n",
    "def gradient_descent(X, y, theta, iters, alpha, plot = True):\n",
    "    cost = []\n",
    "    \n",
    "    for i in range(iters):\n",
    "        theta = theta - alpha/len(X)*np.sum(X*(np.matmul(X, theta.T)-y),axis=0)\n",
    "        cost.append(calc_cost(X,y,theta))\n",
    "        #print theta\n",
    "    \n",
    "    if plot:\n",
    "        plot_cost(cost,iters)\n",
    "        \n",
    "    return theta, cost\n",
    "\n",
    "def sgd(X, y, theta, epochs, alpha, num_examples = False, plot=True):\n",
    "    from sklearn.utils import shuffle\n",
    "    cost = []\n",
    "    if num_examples == False or num_examples >= len(X):\n",
    "        num_examples = len(X)\n",
    "    \n",
    "    for i in range(epochs):\n",
    "        X,y = shuffle(X,y)\n",
    "        \n",
    "        #print X.shape\n",
    "        #test = X[1].reshape(1,-1)\n",
    "        #print test.shape\n",
    "        \n",
    "        for j in range(num_examples):\n",
    "            theta = theta - alpha*X[j]*(np.matmul(X[j], theta.T)-y[j])\n",
    "            cost.append(calc_cost(X[j].reshape(1,-1),y[j],theta))\n",
    "            #print X[j].shape\n",
    "            \n",
    "    \n",
    "    if plot:\n",
    "        plot_cost(cost,num_examples*epochs)\n",
    "         \n",
    "    return theta, cost\n",
    "    \n"
   ]
  },
  {
   "cell_type": "markdown",
   "metadata": {},
   "source": [
    "## Attempt to reproduce results\n",
    "\n",
    "Check above `gradient_descent` function by reproducing results using the data found in [this tutorial](https://medium.com/we-are-orb/multivariate-linear-regression-in-python-without-scikit-learn-7091b1d45905). The preprocessing steps found in the tutorial are implemented in order to make a valid comparison."
   ]
  },
  {
   "cell_type": "code",
   "execution_count": 3,
   "metadata": {
    "scrolled": false
   },
   "outputs": [
    {
     "name": "stdout",
     "output_type": "stream",
     "text": [
      "[[ -1.03191687e-16   8.78503652e-01  -4.69166570e-02]]\n",
      "0.130703369608\n"
     ]
    },
    {
     "data": {
      "image/png": "[encoded data removed]",
      "text/plain": [
       "<matplotlib.figure.Figure at 0x61fb198>"
      ]
     },
     "metadata": {},
     "output_type": "display_data"
    }
   ],
   "source": [
    "data = pd.read_csv('house.txt',names=[\"size\",\"bedroom\",\"price\"])\n",
    "#Mean normalization\n",
    "data = (data - data.mean())/data.std()\n",
    "X_small = data.iloc[:,0:2].values\n",
    "ones = np.ones([X_small.shape[0],1])\n",
    "X_small = np.concatenate((ones,X_small),axis=1)\n",
    "y_small = data.iloc[:,2:3].values\n",
    "theta_small = np.zeros([1,X_small.shape[1]])\n",
    "\n",
    "t_small,c_small = gradient_descent(X_small, y_small, theta_small, 1000, 0.01)\n",
    "print t_small\n",
    "print c_small[-1]"
   ]
  },
  {
   "cell_type": "markdown",
   "metadata": {},
   "source": [
    "The coefficients and final cost determined by `gradient_descent` match those found in the tutorial. The function therefore appears to be functioning properly."
   ]
  },
  {
   "cell_type": "markdown",
   "metadata": {},
   "source": [
    "## Compare to the normal equation and LinearRegression."
   ]
  },
  {
   "cell_type": "code",
   "execution_count": 4,
   "metadata": {},
   "outputs": [
    {
     "name": "stdout",
     "output_type": "stream",
     "text": [
      "Coefficients from gradient_descent [[ -1.03191687e-16   8.78503652e-01  -4.69166570e-02]]\n",
      "Coefficients from normal equation [[ -1.13257800e-16   8.84765988e-01  -5.31788197e-02]]\n",
      "Coefficients from LinearRegression [[ -1.01852438e-16   8.84765988e-01  -5.31788197e-02]]\n"
     ]
    }
   ],
   "source": [
    "norm_small = normal_equation(X_small,y_small)\n",
    "linreg_small = LinearRegression(fit_intercept = False)\n",
    "linreg_small.fit(X_small,y_small)\n",
    "print('Coefficients from gradient_descent {}'.format(t_small))\n",
    "print('Coefficients from normal equation {}'.format(norm_small))\n",
    "print('Coefficients from LinearRegression {}'.format(linreg_small.coef_))"
   ]
  },
  {
   "cell_type": "code",
   "execution_count": 5,
   "metadata": {},
   "outputs": [
    {
     "name": "stdout",
     "output_type": "stream",
     "text": [
      "[[  1.31489138   0.7077957   11.77567059]]\n"
     ]
    }
   ],
   "source": [
    "'''\n",
    "Using the results from LinearRegression as the 'correct' values, the percent error of the gradient_descent algorithm for each\n",
    "coefficient is\n",
    "'''\n",
    "def percent_error(experimental, theoretical):\n",
    "    return 100*np.absolute((experimental-theoretical)/theoretical)\n",
    "\n",
    "print percent_error(t_small, linreg_small.coef_)"
   ]
  },
  {
   "cell_type": "markdown",
   "metadata": {},
   "source": [
    "Not terrible, but not great either."
   ]
  },
  {
   "cell_type": "markdown",
   "metadata": {},
   "source": [
    "## Apply Gradient Descent to more complex data set and compare results to Linear Regression and the Normal Equation"
   ]
  },
  {
   "cell_type": "code",
   "execution_count": 6,
   "metadata": {},
   "outputs": [
    {
     "data": {
      "text/html": [
       "<div>\n",
       "<style>\n",
       "    .dataframe thead tr:only-child th {\n",
       "        text-align: right;\n",
       "    }\n",
       "\n",
       "    .dataframe thead th {\n",
       "        text-align: left;\n",
       "    }\n",
       "\n",
       "    .dataframe tbody tr th {\n",
       "        vertical-align: top;\n",
       "    }\n",
       "</style>\n",
       "<table border=\"1\" class=\"dataframe\">\n",
       "  <thead>\n",
       "    <tr style=\"text-align: right;\">\n",
       "      <th></th>\n",
       "      <th>Cement (component 1)(kg in a m^3 mixture)</th>\n",
       "      <th>Blast Furnace Slag (component 2)(kg in a m^3 mixture)</th>\n",
       "      <th>Fly Ash (component 3)(kg in a m^3 mixture)</th>\n",
       "      <th>Water  (component 4)(kg in a m^3 mixture)</th>\n",
       "      <th>Superplasticizer (component 5)(kg in a m^3 mixture)</th>\n",
       "      <th>Coarse Aggregate  (component 6)(kg in a m^3 mixture)</th>\n",
       "      <th>Fine Aggregate (component 7)(kg in a m^3 mixture)</th>\n",
       "      <th>Age (day)</th>\n",
       "      <th>Concrete compressive strength(MPa, megapascals)</th>\n",
       "    </tr>\n",
       "  </thead>\n",
       "  <tbody>\n",
       "    <tr>\n",
       "      <th>0</th>\n",
       "      <td>540.0</td>\n",
       "      <td>0.0</td>\n",
       "      <td>0.0</td>\n",
       "      <td>162.0</td>\n",
       "      <td>2.5</td>\n",
       "      <td>1040.0</td>\n",
       "      <td>676.0</td>\n",
       "      <td>28</td>\n",
       "      <td>79.986111</td>\n",
       "    </tr>\n",
       "    <tr>\n",
       "      <th>1</th>\n",
       "      <td>540.0</td>\n",
       "      <td>0.0</td>\n",
       "      <td>0.0</td>\n",
       "      <td>162.0</td>\n",
       "      <td>2.5</td>\n",
       "      <td>1055.0</td>\n",
       "      <td>676.0</td>\n",
       "      <td>28</td>\n",
       "      <td>61.887366</td>\n",
       "    </tr>\n",
       "    <tr>\n",
       "      <th>2</th>\n",
       "      <td>332.5</td>\n",
       "      <td>142.5</td>\n",
       "      <td>0.0</td>\n",
       "      <td>228.0</td>\n",
       "      <td>0.0</td>\n",
       "      <td>932.0</td>\n",
       "      <td>594.0</td>\n",
       "      <td>270</td>\n",
       "      <td>40.269535</td>\n",
       "    </tr>\n",
       "    <tr>\n",
       "      <th>3</th>\n",
       "      <td>332.5</td>\n",
       "      <td>142.5</td>\n",
       "      <td>0.0</td>\n",
       "      <td>228.0</td>\n",
       "      <td>0.0</td>\n",
       "      <td>932.0</td>\n",
       "      <td>594.0</td>\n",
       "      <td>365</td>\n",
       "      <td>41.052780</td>\n",
       "    </tr>\n",
       "    <tr>\n",
       "      <th>4</th>\n",
       "      <td>198.6</td>\n",
       "      <td>132.4</td>\n",
       "      <td>0.0</td>\n",
       "      <td>192.0</td>\n",
       "      <td>0.0</td>\n",
       "      <td>978.4</td>\n",
       "      <td>825.5</td>\n",
       "      <td>360</td>\n",
       "      <td>44.296075</td>\n",
       "    </tr>\n",
       "  </tbody>\n",
       "</table>\n",
       "</div>"
      ],
      "text/plain": [
       "   Cement (component 1)(kg in a m^3 mixture)  \\\n",
       "0                                      540.0   \n",
       "1                                      540.0   \n",
       "2                                      332.5   \n",
       "3                                      332.5   \n",
       "4                                      198.6   \n",
       "\n",
       "   Blast Furnace Slag (component 2)(kg in a m^3 mixture)  \\\n",
       "0                                                0.0       \n",
       "1                                                0.0       \n",
       "2                                              142.5       \n",
       "3                                              142.5       \n",
       "4                                              132.4       \n",
       "\n",
       "   Fly Ash (component 3)(kg in a m^3 mixture)  \\\n",
       "0                                         0.0   \n",
       "1                                         0.0   \n",
       "2                                         0.0   \n",
       "3                                         0.0   \n",
       "4                                         0.0   \n",
       "\n",
       "   Water  (component 4)(kg in a m^3 mixture)  \\\n",
       "0                                      162.0   \n",
       "1                                      162.0   \n",
       "2                                      228.0   \n",
       "3                                      228.0   \n",
       "4                                      192.0   \n",
       "\n",
       "   Superplasticizer (component 5)(kg in a m^3 mixture)  \\\n",
       "0                                                2.5     \n",
       "1                                                2.5     \n",
       "2                                                0.0     \n",
       "3                                                0.0     \n",
       "4                                                0.0     \n",
       "\n",
       "   Coarse Aggregate  (component 6)(kg in a m^3 mixture)  \\\n",
       "0                                             1040.0      \n",
       "1                                             1055.0      \n",
       "2                                              932.0      \n",
       "3                                              932.0      \n",
       "4                                              978.4      \n",
       "\n",
       "   Fine Aggregate (component 7)(kg in a m^3 mixture)  Age (day)  \\\n",
       "0                                              676.0         28   \n",
       "1                                              676.0         28   \n",
       "2                                              594.0        270   \n",
       "3                                              594.0        365   \n",
       "4                                              825.5        360   \n",
       "\n",
       "   Concrete compressive strength(MPa, megapascals)   \n",
       "0                                         79.986111  \n",
       "1                                         61.887366  \n",
       "2                                         40.269535  \n",
       "3                                         41.052780  \n",
       "4                                         44.296075  "
      ]
     },
     "execution_count": 6,
     "metadata": {},
     "output_type": "execute_result"
    }
   ],
   "source": [
    "data = pd.read_excel('https://archive.ics.uci.edu/ml/machine-learning-databases/concrete/compressive/Concrete_Data.xls')\n",
    "data.head()"
   ]
  },
  {
   "cell_type": "code",
   "execution_count": 7,
   "metadata": {},
   "outputs": [
    {
     "data": {
      "text/html": [
       "<div>\n",
       "<style>\n",
       "    .dataframe thead tr:only-child th {\n",
       "        text-align: right;\n",
       "    }\n",
       "\n",
       "    .dataframe thead th {\n",
       "        text-align: left;\n",
       "    }\n",
       "\n",
       "    .dataframe tbody tr th {\n",
       "        vertical-align: top;\n",
       "    }\n",
       "</style>\n",
       "<table border=\"1\" class=\"dataframe\">\n",
       "  <thead>\n",
       "    <tr style=\"text-align: right;\">\n",
       "      <th></th>\n",
       "      <th>Cement (component 1)(kg in a m^3 mixture)</th>\n",
       "      <th>Blast Furnace Slag (component 2)(kg in a m^3 mixture)</th>\n",
       "      <th>Fly Ash (component 3)(kg in a m^3 mixture)</th>\n",
       "      <th>Water  (component 4)(kg in a m^3 mixture)</th>\n",
       "      <th>Superplasticizer (component 5)(kg in a m^3 mixture)</th>\n",
       "      <th>Coarse Aggregate  (component 6)(kg in a m^3 mixture)</th>\n",
       "      <th>Fine Aggregate (component 7)(kg in a m^3 mixture)</th>\n",
       "      <th>Age (day)</th>\n",
       "      <th>Concrete compressive strength(MPa, megapascals)</th>\n",
       "    </tr>\n",
       "  </thead>\n",
       "  <tbody>\n",
       "    <tr>\n",
       "      <th>count</th>\n",
       "      <td>1030.000000</td>\n",
       "      <td>1030.000000</td>\n",
       "      <td>1030.000000</td>\n",
       "      <td>1030.000000</td>\n",
       "      <td>1030.000000</td>\n",
       "      <td>1030.000000</td>\n",
       "      <td>1030.000000</td>\n",
       "      <td>1030.000000</td>\n",
       "      <td>1030.000000</td>\n",
       "    </tr>\n",
       "    <tr>\n",
       "      <th>mean</th>\n",
       "      <td>281.165631</td>\n",
       "      <td>73.895485</td>\n",
       "      <td>54.187136</td>\n",
       "      <td>181.566359</td>\n",
       "      <td>6.203112</td>\n",
       "      <td>972.918592</td>\n",
       "      <td>773.578883</td>\n",
       "      <td>45.662136</td>\n",
       "      <td>35.817836</td>\n",
       "    </tr>\n",
       "    <tr>\n",
       "      <th>std</th>\n",
       "      <td>104.507142</td>\n",
       "      <td>86.279104</td>\n",
       "      <td>63.996469</td>\n",
       "      <td>21.355567</td>\n",
       "      <td>5.973492</td>\n",
       "      <td>77.753818</td>\n",
       "      <td>80.175427</td>\n",
       "      <td>63.169912</td>\n",
       "      <td>16.705679</td>\n",
       "    </tr>\n",
       "    <tr>\n",
       "      <th>min</th>\n",
       "      <td>102.000000</td>\n",
       "      <td>0.000000</td>\n",
       "      <td>0.000000</td>\n",
       "      <td>121.750000</td>\n",
       "      <td>0.000000</td>\n",
       "      <td>801.000000</td>\n",
       "      <td>594.000000</td>\n",
       "      <td>1.000000</td>\n",
       "      <td>2.331808</td>\n",
       "    </tr>\n",
       "    <tr>\n",
       "      <th>25%</th>\n",
       "      <td>192.375000</td>\n",
       "      <td>0.000000</td>\n",
       "      <td>0.000000</td>\n",
       "      <td>164.900000</td>\n",
       "      <td>0.000000</td>\n",
       "      <td>932.000000</td>\n",
       "      <td>730.950000</td>\n",
       "      <td>7.000000</td>\n",
       "      <td>23.707115</td>\n",
       "    </tr>\n",
       "    <tr>\n",
       "      <th>50%</th>\n",
       "      <td>272.900000</td>\n",
       "      <td>22.000000</td>\n",
       "      <td>0.000000</td>\n",
       "      <td>185.000000</td>\n",
       "      <td>6.350000</td>\n",
       "      <td>968.000000</td>\n",
       "      <td>779.510000</td>\n",
       "      <td>28.000000</td>\n",
       "      <td>34.442774</td>\n",
       "    </tr>\n",
       "    <tr>\n",
       "      <th>75%</th>\n",
       "      <td>350.000000</td>\n",
       "      <td>142.950000</td>\n",
       "      <td>118.270000</td>\n",
       "      <td>192.000000</td>\n",
       "      <td>10.160000</td>\n",
       "      <td>1029.400000</td>\n",
       "      <td>824.000000</td>\n",
       "      <td>56.000000</td>\n",
       "      <td>46.136287</td>\n",
       "    </tr>\n",
       "    <tr>\n",
       "      <th>max</th>\n",
       "      <td>540.000000</td>\n",
       "      <td>359.400000</td>\n",
       "      <td>200.100000</td>\n",
       "      <td>247.000000</td>\n",
       "      <td>32.200000</td>\n",
       "      <td>1145.000000</td>\n",
       "      <td>992.600000</td>\n",
       "      <td>365.000000</td>\n",
       "      <td>82.599225</td>\n",
       "    </tr>\n",
       "  </tbody>\n",
       "</table>\n",
       "</div>"
      ],
      "text/plain": [
       "       Cement (component 1)(kg in a m^3 mixture)  \\\n",
       "count                                1030.000000   \n",
       "mean                                  281.165631   \n",
       "std                                   104.507142   \n",
       "min                                   102.000000   \n",
       "25%                                   192.375000   \n",
       "50%                                   272.900000   \n",
       "75%                                   350.000000   \n",
       "max                                   540.000000   \n",
       "\n",
       "       Blast Furnace Slag (component 2)(kg in a m^3 mixture)  \\\n",
       "count                                        1030.000000       \n",
       "mean                                           73.895485       \n",
       "std                                            86.279104       \n",
       "min                                             0.000000       \n",
       "25%                                             0.000000       \n",
       "50%                                            22.000000       \n",
       "75%                                           142.950000       \n",
       "max                                           359.400000       \n",
       "\n",
       "       Fly Ash (component 3)(kg in a m^3 mixture)  \\\n",
       "count                                 1030.000000   \n",
       "mean                                    54.187136   \n",
       "std                                     63.996469   \n",
       "min                                      0.000000   \n",
       "25%                                      0.000000   \n",
       "50%                                      0.000000   \n",
       "75%                                    118.270000   \n",
       "max                                    200.100000   \n",
       "\n",
       "       Water  (component 4)(kg in a m^3 mixture)  \\\n",
       "count                                1030.000000   \n",
       "mean                                  181.566359   \n",
       "std                                    21.355567   \n",
       "min                                   121.750000   \n",
       "25%                                   164.900000   \n",
       "50%                                   185.000000   \n",
       "75%                                   192.000000   \n",
       "max                                   247.000000   \n",
       "\n",
       "       Superplasticizer (component 5)(kg in a m^3 mixture)  \\\n",
       "count                                        1030.000000     \n",
       "mean                                            6.203112     \n",
       "std                                             5.973492     \n",
       "min                                             0.000000     \n",
       "25%                                             0.000000     \n",
       "50%                                             6.350000     \n",
       "75%                                            10.160000     \n",
       "max                                            32.200000     \n",
       "\n",
       "       Coarse Aggregate  (component 6)(kg in a m^3 mixture)  \\\n",
       "count                                        1030.000000      \n",
       "mean                                          972.918592      \n",
       "std                                            77.753818      \n",
       "min                                           801.000000      \n",
       "25%                                           932.000000      \n",
       "50%                                           968.000000      \n",
       "75%                                          1029.400000      \n",
       "max                                          1145.000000      \n",
       "\n",
       "       Fine Aggregate (component 7)(kg in a m^3 mixture)    Age (day)  \\\n",
       "count                                        1030.000000  1030.000000   \n",
       "mean                                          773.578883    45.662136   \n",
       "std                                            80.175427    63.169912   \n",
       "min                                           594.000000     1.000000   \n",
       "25%                                           730.950000     7.000000   \n",
       "50%                                           779.510000    28.000000   \n",
       "75%                                           824.000000    56.000000   \n",
       "max                                           992.600000   365.000000   \n",
       "\n",
       "       Concrete compressive strength(MPa, megapascals)   \n",
       "count                                       1030.000000  \n",
       "mean                                          35.817836  \n",
       "std                                           16.705679  \n",
       "min                                            2.331808  \n",
       "25%                                           23.707115  \n",
       "50%                                           34.442774  \n",
       "75%                                           46.136287  \n",
       "max                                           82.599225  "
      ]
     },
     "metadata": {},
     "output_type": "display_data"
    }
   ],
   "source": [
    "display(data.describe())"
   ]
  },
  {
   "cell_type": "code",
   "execution_count": 8,
   "metadata": {},
   "outputs": [
    {
     "data": {
      "text/plain": [
       "Index([u'Cement (component 1)(kg in a m^3 mixture)',\n",
       "       u'Blast Furnace Slag (component 2)(kg in a m^3 mixture)',\n",
       "       u'Fly Ash (component 3)(kg in a m^3 mixture)',\n",
       "       u'Water  (component 4)(kg in a m^3 mixture)',\n",
       "       u'Superplasticizer (component 5)(kg in a m^3 mixture)',\n",
       "       u'Coarse Aggregate  (component 6)(kg in a m^3 mixture)',\n",
       "       u'Fine Aggregate (component 7)(kg in a m^3 mixture)', u'Age (day)',\n",
       "       u'Concrete compressive strength(MPa, megapascals) '],\n",
       "      dtype='object')"
      ]
     },
     "execution_count": 8,
     "metadata": {},
     "output_type": "execute_result"
    }
   ],
   "source": [
    "#Needed to copy and paste to structure X and y\n",
    "data.keys()"
   ]
  },
  {
   "cell_type": "code",
   "execution_count": 9,
   "metadata": {
    "collapsed": true
   },
   "outputs": [],
   "source": [
    "#Fly ash is dropped becuase >50% of the data for this parameter is 0\n",
    "X = data.drop(['Fly Ash (component 3)(kg in a m^3 mixture)','Concrete compressive strength(MPa, megapascals) '], axis=1)\n",
    "y = data[['Concrete compressive strength(MPa, megapascals) ']]\n",
    "X_train, X_test, y_train, y_test = train_test_split(X, y, test_size=0.2, random_state=seed)"
   ]
  },
  {
   "cell_type": "code",
   "execution_count": 10,
   "metadata": {
    "collapsed": true,
    "scrolled": false
   },
   "outputs": [],
   "source": [
    "from sklearn.preprocessing import Normalizer\n",
    "\n",
    "X = X_train.values\n",
    "y = y_train.values\n",
    "\n",
    "norm = Normalizer()\n",
    "norm.fit(X_train)\n",
    "\n",
    "X = norm.transform(X_train)\n",
    "ones = np.ones([X.shape[0],1])\n",
    "X = np.concatenate((ones,X),axis=1)\n",
    "\n",
    "theta = np.zeros([1,X.shape[1]])"
   ]
  },
  {
   "cell_type": "code",
   "execution_count": 11,
   "metadata": {
    "scrolled": false
   },
   "outputs": [
    {
     "data": {
      "text/plain": [
       "LinearRegression(copy_X=True, fit_intercept=False, n_jobs=1, normalize=False)"
      ]
     },
     "execution_count": 11,
     "metadata": {},
     "output_type": "execute_result"
    }
   ],
   "source": [
    "norm_eq =  normal_equation(X,y)\n",
    "linreg = LinearRegression(fit_intercept=False)\n",
    "linreg.fit(X,y)"
   ]
  },
  {
   "cell_type": "code",
   "execution_count": 12,
   "metadata": {},
   "outputs": [
    {
     "data": {
      "image/png": "[encoded data removed]",
      "text/plain": [
       "<matplotlib.figure.Figure at 0xd19eef0>"
      ]
     },
     "metadata": {},
     "output_type": "display_data"
    }
   ],
   "source": [
    "t_gd,c_gd = gradient_descent(X, y, theta, 60000, 1.009)"
   ]
  },
  {
   "cell_type": "markdown",
   "metadata": {},
   "source": [
    "## Coefficients produced by Gradient Descent, the Normal Equation, and Linear Regression"
   ]
  },
  {
   "cell_type": "code",
   "execution_count": 13,
   "metadata": {},
   "outputs": [
    {
     "name": "stdout",
     "output_type": "stream",
     "text": [
      "Gradient descent error: 54.83\n",
      "\n",
      "Coefficients from gradient_descent:\n",
      " [[-376.4750986   209.35074001  123.24560723 -204.20584487  552.85741351\n",
      "   315.41422884  242.06338027  189.46943179]]\n",
      "\n",
      "Coefficients from normal equation:\n",
      " [[-589.9993156   257.20403804  136.78923478 -132.23577857  926.82731084\n",
      "   475.13930435  360.39679933  216.39809063]]\n",
      "\n",
      "Coefficients from LinearRegression:\n",
      " [[-589.99931561  257.20403804  136.78923478 -132.23577856  926.82731084\n",
      "   475.13930435  360.39679933  216.39809063]]\n"
     ]
    }
   ],
   "source": [
    "print('Gradient descent error: {:.2f}\\n'.format(c_gd[-1]))\n",
    "print('Coefficients from gradient_descent:\\n {}\\n'.format(t_gd))\n",
    "print('Coefficients from normal equation:\\n {}\\n'.format(norm_eq))\n",
    "print('Coefficients from LinearRegression:\\n {}'.format(linreg.coef_))"
   ]
  },
  {
   "cell_type": "code",
   "execution_count": 14,
   "metadata": {},
   "outputs": [
    {
     "name": "stdout",
     "output_type": "stream",
     "text": [
      "[[ 36.19058724  18.60518925   9.90109169  54.4255625   40.34946888\n",
      "   33.6164729   32.83420366  12.44403717]]\n"
     ]
    }
   ],
   "source": [
    "prcnt_err_gd = percent_error(t_gd, linreg.coef_)\n",
    "print prcnt_err_gd"
   ]
  },
  {
   "cell_type": "markdown",
   "metadata": {},
   "source": [
    "## Apply stochastic gradient descent\n",
    "The above performance of gradient descent is suboptimal considering the dataset is passed through 60000 times. Let's see if improvements can be made by using stochastic gradient descent."
   ]
  },
  {
   "cell_type": "code",
   "execution_count": 15,
   "metadata": {},
   "outputs": [
    {
     "data": {
      "image/png": "[encoded data removed]",
      "text/plain": [
       "<matplotlib.figure.Figure at 0xd19ee48>"
      ]
     },
     "metadata": {},
     "output_type": "display_data"
    }
   ],
   "source": [
    "t_sgd,c_sgd = sgd(X,y,theta,1000,0.6)\n",
    "prcnt_err_sgd = percent_error(t_sgd, linreg.coef_)"
   ]
  },
  {
   "cell_type": "code",
   "execution_count": 16,
   "metadata": {},
   "outputs": [
    {
     "name": "stdout",
     "output_type": "stream",
     "text": [
      "SGD coefficients: \n",
      "[[-597.62101653  254.95774021  140.35984677 -125.34043     916.97359618\n",
      "   463.96277505  370.1394441   214.03588418]]\n",
      "\n",
      "SGD percent error: \n",
      "[[ 1.29181521  0.87335248  2.6103019   5.21443488  1.0631662   2.35226368\n",
      "   2.70331057  1.09160226]]\n",
      "\n",
      "GD percent error: \n",
      "[[ 36.19058724  18.60518925   9.90109169  54.4255625   40.34946888\n",
      "   33.6164729   32.83420366  12.44403717]]\n"
     ]
    }
   ],
   "source": [
    "print('SGD coefficients: \\n{}\\n'.format(t_sgd))\n",
    "print('SGD percent error: \\n{}\\n'.format(prcnt_err_sgd))\n",
    "print('GD percent error: \\n{}'.format(prcnt_err_gd))"
   ]
  },
  {
   "cell_type": "markdown",
   "metadata": {},
   "source": [
    "Much better results with only 1000 passes through the dataset."
   ]
  },
  {
   "cell_type": "markdown",
   "metadata": {},
   "source": [
    "## Experiment with SGD and GD\n",
    "* See how many GD iterations are necessary to produce similar results to SGD, if possible\n",
    "* See how close SGD can get to the actual solution\n"
   ]
  },
  {
   "cell_type": "code",
   "execution_count": 20,
   "metadata": {},
   "outputs": [
    {
     "data": {
      "image/png": "[encoded data removed]",
      "text/plain": [
       "<matplotlib.figure.Figure at 0xccb4d30>"
      ]
     },
     "metadata": {},
     "output_type": "display_data"
    }
   ],
   "source": [
    "t_gd,c_gd = gradient_descent(X, y, theta, 240000, 1.009)"
   ]
  },
  {
   "cell_type": "markdown",
   "metadata": {},
   "source": [
    "Law of diminishing returns is very obvious here"
   ]
  },
  {
   "cell_type": "code",
   "execution_count": 21,
   "metadata": {},
   "outputs": [
    {
     "name": "stdout",
     "output_type": "stream",
     "text": [
      "SGD coefficients: \n",
      "[[-597.62101653  254.95774021  140.35984677 -125.34043     916.97359618\n",
      "   463.96277505  370.1394441   214.03588418]]\n",
      "\n",
      "GD coefficients: \n",
      "[[-581.46907049  255.48980441  136.47527945 -136.46450829  898.5044595\n",
      "   468.77791439  355.98266246  215.26349949]]\n",
      "\n",
      "SGD percent error: \n",
      "[[ 1.29181521  0.87335248  2.6103019   5.21443488  1.0631662   2.35226368\n",
      "   2.70331057  1.09160226]]\n",
      "\n",
      "GD percent error: \n",
      "[[ 1.44580593  0.66648784  0.22951757  3.19787109  3.05589305  1.33884734\n",
      "   1.22479913  0.52430737]]\n"
     ]
    }
   ],
   "source": [
    "print('SGD coefficients: \\n{}\\n'.format(t_sgd))\n",
    "print('GD coefficients: \\n{}\\n'.format(t_gd))\n",
    "print('SGD percent error: \\n{}\\n'.format(prcnt_err_sgd))\n",
    "print('GD percent error: \\n{}'.format(percent_error(t_gd, linreg.coef_)))"
   ]
  },
  {
   "cell_type": "markdown",
   "metadata": {
    "collapsed": true
   },
   "source": [
    "It takes ~240k iterations of gradient descent to produce coefficients similar to those produced by SGD"
   ]
  },
  {
   "cell_type": "code",
   "execution_count": null,
   "metadata": {
    "collapsed": true
   },
   "outputs": [],
   "source": []
  }
 ],
 "metadata": {
  "kernelspec": {
   "display_name": "Python 2",
   "language": "python",
   "name": "python2"
  },
  "language_info": {
   "codemirror_mode": {
    "name": "ipython",
    "version": 2
   },
   "file_extension": ".py",
   "mimetype": "text/x-python",
   "name": "python",
   "nbconvert_exporter": "python",
   "pygments_lexer": "ipython2",
   "version": "2.7.13"
  }
 },
 "nbformat": 4,
 "nbformat_minor": 2
}
